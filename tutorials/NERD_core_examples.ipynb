{
 "cells": [
  {
   "cell_type": "code",
   "execution_count": null,
   "id": "4e94c1f1",
   "metadata": {},
   "outputs": [],
   "source": [
    "from hdmf.common import DynamicTable, VectorData\n",
    "from hdmf.term_set import TermSet\n",
    "\n",
    "from pynwb.resources import ExternalResources\n",
    "from pynwb import NWBFile, NWBHDF5IO\n",
    "from pynwb import get_type_map as tm\n",
    "from pynwb.file import Subject\n",
    "\n",
    "from datetime import datetime\n",
    "from dateutil import tz\n",
    "import numpy as np"
   ]
  },
  {
   "cell_type": "markdown",
   "id": "1941a492",
   "metadata": {},
   "source": [
    "# An Overview NERD"
   ]
  },
  {
   "cell_type": "markdown",
   "id": "3f20146d",
   "metadata": {},
   "source": [
    "### Goals and Use Cases"
   ]
  },
  {
   "cell_type": "markdown",
   "id": "3b5a9e23",
   "metadata": {},
   "source": [
    "To have a FAIR data ecosystem that supports data reuse, the `ExternalResources` class is a toolkit of standardized methods to create and manage linkages between data terms and external resources, such as online ontologies or digital identifiers. Common use cases:\n",
    "\n",
    "* Linking terms from user data to ontologies facilitates standardized diction and semantics of terms to precisely defined neuroscience metadata using existing curated resources, e.g., brain atlases; species taxonomies; and anatomical, cell, and gene function ontologies. \n",
    "* Linking data to persistent digital identifiers (e.g., ORCID, RRID, or DOI) enables unique identification of experimenters, publications, subjects, software, and other resources and assets identified in the experimental metadata.\n",
    "* Linking data to related data assets is essential for integration and interoperability of data across different data archives for experiments involving multiple data modalities."
   ]
  },
  {
   "cell_type": "markdown",
   "id": "6b3748f8",
   "metadata": {},
   "source": [
    "# Using NERD with a single NWB File from the DANDI Archive"
   ]
  },
  {
   "cell_type": "markdown",
   "id": "b4cbc5a7",
   "metadata": {},
   "source": [
    "Loading in the file, we can see multiple cases where contextual metadata will be important in regards to creating and sharing FAIR data. We can map the experimenter to a digital identifier, i.e., ORCID. The electrode group has a location that will be mapped to a brain atlas. Lastly, we can map the `Subject` species attribute to an ontology resource, in this case the NCBI Taxonomy."
   ]
  },
  {
   "cell_type": "code",
   "execution_count": null,
   "id": "e114746e",
   "metadata": {},
   "outputs": [],
   "source": [
    "io=NWBHDF5IO(\"sub-Haydn_desc-train_ecephys.nwb\", \"r\")\n",
    "read_nwbfile = io.read()\n",
    "read_nwbfile"
   ]
  },
  {
   "cell_type": "markdown",
   "id": "030a7fcb",
   "metadata": {},
   "source": [
    "When directly using NERD with a single source, in the most common case that'll be a `NWBFile`, it is recommended to link the instance of the `ExternalResources` class to the file. This link will allows for easier use of NERD, as shown later in the tutorial."
   ]
  },
  {
   "cell_type": "code",
   "execution_count": null,
   "id": "d7390ae2",
   "metadata": {},
   "outputs": [],
   "source": [
    "er = ExternalResources() \n",
    "read_nwbfile.link_resources(er)"
   ]
  },
  {
   "cell_type": "markdown",
   "id": "effedc65",
   "metadata": {},
   "source": [
    "We can see the linkage as follows:"
   ]
  },
  {
   "cell_type": "code",
   "execution_count": null,
   "id": "5784a089",
   "metadata": {},
   "outputs": [],
   "source": [
    "read_nwbfile.get_linked_resources()"
   ]
  },
  {
   "cell_type": "markdown",
   "id": "3732afaa",
   "metadata": {},
   "source": [
    "#### Important Note"
   ]
  },
  {
   "cell_type": "markdown",
   "id": "65829ef3",
   "metadata": {},
   "source": [
    "By setting `external_resources` in `NWBFile`, the user is establishing a link. However, since `ExternalResources` is written separately to an `NWBFile`, this link is not saved on write. This allows for users to annotate existing files without having to modify files containing large datasets."
   ]
  },
  {
   "cell_type": "markdown",
   "id": "cfadb3a3",
   "metadata": {},
   "source": [
    "### ORCiD"
   ]
  },
  {
   "cell_type": "code",
   "execution_count": null,
   "id": "257d3b93",
   "metadata": {},
   "outputs": [],
   "source": [
    "er.add_ref(\n",
    "    container=read_nwbfile,\n",
    "    attribute=\"experimenter\",\n",
    "    key=\"Hansem Sohn\",\n",
    "    entity_id='ORCID:0000-0001-8593-7473', \n",
    "    entity_uri='https://orcid.org/0000-0001-8593-7473')"
   ]
  },
  {
   "cell_type": "markdown",
   "id": "6c182055",
   "metadata": {},
   "source": [
    "### Electrode Group Location"
   ]
  },
  {
   "cell_type": "code",
   "execution_count": null,
   "id": "1ef9ba3a",
   "metadata": {},
   "outputs": [],
   "source": [
    "er.add_ref(\n",
    "    container=read_nwbfile.electrode_groups['electrode_group_1'],\n",
    "    attribute=\"location\",\n",
    "    key=\"Dorsomedial frontal cortex\",\n",
    "    entity_id=\"ID\", \n",
    "    entity_uri=\"URI\", \n",
    ")"
   ]
  },
  {
   "cell_type": "markdown",
   "id": "7082b589",
   "metadata": {},
   "source": [
    "### Subject Species"
   ]
  },
  {
   "cell_type": "code",
   "execution_count": null,
   "id": "dc0f2a0c",
   "metadata": {},
   "outputs": [],
   "source": [
    "er.add_ref(\n",
    "    container=read_nwbfile.subject,\n",
    "    attribute='species',\n",
    "    key='Macaca mulatta',\n",
    "    entity_id='NCBI_TAXON:9544',\n",
    "    entity_uri='https://www.ncbi.nlm.nih.gov/Taxonomy/Browser/wwwtax.cgi?mode=info&id=9544'\n",
    ")"
   ]
  },
  {
   "cell_type": "markdown",
   "id": "07ac85ab",
   "metadata": {},
   "source": [
    "### What about the connection to the NWBFile?"
   ]
  },
  {
   "cell_type": "markdown",
   "id": "6ccd764c",
   "metadata": {},
   "source": [
    "Even though we've been using the notation using only the instance of `ExternalResources`, i.e., `er.add_ref(...)`, we are still updating the `ExternalResources` linked to the file. Alternatively, a user could use `read_nwbfile.external_resources.add_ref(...)`. We now see that our instance of `ExternalResources` shows a populated normalized set of tables for efficient data storage and query options. Even though the data structure consists of multiple tables, the user can visualize a flattened view of the NERD system."
   ]
  },
  {
   "cell_type": "code",
   "execution_count": null,
   "id": "b6bf7825",
   "metadata": {},
   "outputs": [],
   "source": [
    "er"
   ]
  },
  {
   "cell_type": "code",
   "execution_count": null,
   "id": "da6540e1",
   "metadata": {},
   "outputs": [],
   "source": [
    "df=er.to_dataframe()\n",
    "df"
   ]
  },
  {
   "cell_type": "markdown",
   "id": "82cbce7b",
   "metadata": {},
   "source": [
    "### Useful query methods"
   ]
  },
  {
   "cell_type": "markdown",
   "id": "43b8f4ab",
   "metadata": {},
   "source": [
    "NERD hosts multiple methods to retrieve the stored data. More methods are in active development and are open for community requests and feedback."
   ]
  },
  {
   "cell_type": "markdown",
   "id": "850bf11d",
   "metadata": {},
   "source": [
    "#### Get Object Type"
   ]
  },
  {
   "cell_type": "markdown",
   "id": "43080a8a",
   "metadata": {},
   "source": [
    "This method retrieves all instances of a specified `object_type`. In this case, a user can retrieve all instances involving `Subject`.\n"
   ]
  },
  {
   "cell_type": "code",
   "execution_count": null,
   "id": "538d2fc4",
   "metadata": {},
   "outputs": [],
   "source": [
    "er.get_object_type(object_type='Subject', all_instances=True)"
   ]
  },
  {
   "cell_type": "markdown",
   "id": "3b03bd2f",
   "metadata": {},
   "source": [
    "#### Get Key"
   ]
  },
  {
   "cell_type": "markdown",
   "id": "913341a3",
   "metadata": {},
   "source": [
    "`get_key` returns a `Key` object based on the name given. If the name is used more than once, the user provides the container, relative_path, and field to retrieve the specfic `Key` they want. Users will need to us this method if they want to resuse the key for a new reference, since `ExternalResources` requires unique keys associated with an `Object`."
   ]
  },
  {
   "cell_type": "code",
   "execution_count": null,
   "id": "84128fb4",
   "metadata": {
    "scrolled": true
   },
   "outputs": [],
   "source": [
    "er.get_key('Hansem Sohn')"
   ]
  },
  {
   "cell_type": "code",
   "execution_count": null,
   "id": "5d897495",
   "metadata": {},
   "outputs": [],
   "source": [
    "er.get_key(key_name='Macaca mulatta', container=read_nwbfile.subject, relative_path='species')"
   ]
  },
  {
   "cell_type": "markdown",
   "id": "b728ce47",
   "metadata": {},
   "source": [
    "#### Get all entities for an Object"
   ]
  },
  {
   "cell_type": "markdown",
   "id": "19a21f33",
   "metadata": {},
   "source": [
    "`get_object_entities` allows the user to retrieve all entities and key information associated with an `Object`."
   ]
  },
  {
   "cell_type": "code",
   "execution_count": null,
   "id": "74e9fc1f",
   "metadata": {},
   "outputs": [],
   "source": [
    "er.get_object_entities(container=read_nwbfile.subject,\n",
    "                       relative_path='species')"
   ]
  },
  {
   "cell_type": "markdown",
   "id": "b1490db9",
   "metadata": {},
   "source": [
    "### Write NERD as a zipped collection of tsv files"
   ]
  },
  {
   "cell_type": "markdown",
   "id": "3f68afb8",
   "metadata": {},
   "source": [
    "As mentioned prior, NERD is written separately from the NWB File. `to_norm_tsv` writes each table as a tsv and stores in a zip file."
   ]
  },
  {
   "cell_type": "code",
   "execution_count": null,
   "id": "7bbb8fe3",
   "metadata": {},
   "outputs": [],
   "source": [
    "er.to_norm_tsv(path='./')"
   ]
  },
  {
   "cell_type": "markdown",
   "id": "cd09a129",
   "metadata": {},
   "source": [
    "### Read ER from tsv"
   ]
  },
  {
   "cell_type": "code",
   "execution_count": null,
   "id": "5e2478b7",
   "metadata": {},
   "outputs": [],
   "source": [
    "er_read=ExternalResources.from_norm_tsv(path='./')"
   ]
  },
  {
   "cell_type": "code",
   "execution_count": null,
   "id": "1914c56c",
   "metadata": {},
   "outputs": [],
   "source": [
    "er_read.to_dataframe()"
   ]
  },
  {
   "cell_type": "markdown",
   "id": "afed9df2",
   "metadata": {},
   "source": [
    "# Using NERD with multiple NWB Files"
   ]
  },
  {
   "cell_type": "markdown",
   "id": "00e879a5",
   "metadata": {},
   "source": [
    "A single instance of the `ExternalResources` class supports storing contextual metadata for multiple files. If the user decides to address multiple files at once, setting up a link between the instance of `ExternalResources` and the file is not possible (due to multiple files being present at once). However, there are ways around this. Users can set link to a file, populate the NERD data structure, and relink that instance to the next file.\n",
    "\n",
    "Another method (as seen below) would be to explicitely define the `file` parameter when populating with `add_ref`.\n",
    "\n",
    "In this example, we have three files currently existing on the DANDI Archive. These files all contain experiments regarding a \"rat\". The species field is free-form text, allowing a wide range of names to represent the same animal. Having contextual metadata for `Subject` species will allows users to connect and query across files with datasets and attributes that share the same external reference."
   ]
  },
  {
   "cell_type": "code",
   "execution_count": null,
   "id": "0ce9341c",
   "metadata": {},
   "outputs": [],
   "source": [
    "# File with Subject species as rat\n",
    "e1='sub-Rat203_ecephys.nwb'\n",
    "io=NWBHDF5IO(e1, \"r\")\n",
    "read_nwbfile_e1 = io.read()\n",
    "\n",
    "# File with Subject species as Rattus norvegicus domestica\n",
    "e2='sub-EE_ses-EE-042_ecephys.nwb'\n",
    "io=NWBHDF5IO(e2, \"r\")\n",
    "read_nwbfile_e2 = io.read()\n",
    "\n",
    "# File with Subject species as rattus norvegicus\n",
    "e3 = 'sub-BH243.nwb'\n",
    "io=NWBHDF5IO(e3, \"r\")\n",
    "read_nwbfile_e3 = io.read()\n",
    "\n",
    "er = ExternalResources()\n",
    "\n",
    "er.add_ref(\n",
    "    file=read_nwbfile_e1,\n",
    "    container=read_nwbfile_e1.subject,\n",
    "    attribute='species',\n",
    "    key='rat',\n",
    "    entity_id='NCBI_TAXON:10116',\n",
    "    entity_uri='https://www.ncbi.nlm.nih.gov/Taxonomy/Browser/wwwtax.cgi?mode=info&id=10116'\n",
    ")\n",
    "\n",
    "er.add_ref(\n",
    "    file=read_nwbfile_e2,\n",
    "    container=read_nwbfile_e2.subject,\n",
    "    attribute='species',\n",
    "    key='Rattus norvegicus domestica',\n",
    "    entity_id='NCBI_TAXON:10116',\n",
    "    entity_uri='https://www.ncbi.nlm.nih.gov/Taxonomy/Browser/wwwtax.cgi?mode=info&id=10116'\n",
    ")\n",
    "\n",
    "er.add_ref(\n",
    "    file=read_nwbfile_e3,\n",
    "    container=read_nwbfile_e3.subject,\n",
    "    attribute='species',\n",
    "    key='rattus norvegicus',\n",
    "    entity_id='NCBI_TAXON:10116',\n",
    "    entity_uri='https://www.ncbi.nlm.nih.gov/Taxonomy/Browser/wwwtax.cgi?mode=info&id=10116'\n",
    ")\n",
    "\n",
    "er.to_dataframe()"
   ]
  },
  {
   "cell_type": "markdown",
   "id": "97cb3bdd",
   "metadata": {},
   "source": [
    "# NERD Structure"
   ]
  },
  {
   "cell_type": "markdown",
   "id": "d324f91b",
   "metadata": {},
   "source": [
    "From a user's perspective, one can think of the `ExternalResources` as a simple table. "
   ]
  },
  {
   "cell_type": "code",
   "execution_count": null,
   "id": "73bd46d6",
   "metadata": {},
   "outputs": [],
   "source": [
    "er_read.to_dataframe()"
   ]
  },
  {
   "cell_type": "markdown",
   "id": "8136831b",
   "metadata": {},
   "source": [
    "However, to reduce data redundancy and improve data integrity, `ExternalResources` stores this data internally in a collection of interlinked tables.\n",
    "* `KeyTable` where each row describes a `Key`. A `Key` is a term defined by the user's data. \n",
    "* `FileTable` where each row describes a `File`. A `File` is a `NWBFile` in our use case.\n",
    "* `EntityTable`  where each row describes an `Entity`. An `Entity` is a term from an ontology or resource.\n",
    "* `ObjectTable` where each row describes an `Object`. An `Object` is a NWB data-type, meaning it has an object_id, e.g., `AbstractContainer`.\n",
    "* `ObjectKeyTable` where each row describes an `ObjectKey` pair identifying which `Key`\n",
    "  is used with which `Object`."
   ]
  },
  {
   "cell_type": "markdown",
   "id": "4c82d23a",
   "metadata": {},
   "source": [
    "### KeyTable"
   ]
  },
  {
   "cell_type": "markdown",
   "id": "0736a493",
   "metadata": {},
   "source": [
    "Multiple `Keys` can have the same name. They are disambiguated by the `Object` associated with each. Meaning, we may have keys with the same name in different objects, but for a particular object all keys must be unique within `ExternalResources`."
   ]
  },
  {
   "cell_type": "code",
   "execution_count": null,
   "id": "38cef0de",
   "metadata": {},
   "outputs": [],
   "source": [
    "er_read.keys.to_dataframe()"
   ]
  },
  {
   "cell_type": "markdown",
   "id": "414246ad",
   "metadata": {},
   "source": [
    "### EntityTable"
   ]
  },
  {
   "cell_type": "markdown",
   "id": "237e5908",
   "metadata": {},
   "source": [
    "This stores the ID and URI information for the external references."
   ]
  },
  {
   "cell_type": "code",
   "execution_count": null,
   "id": "4ba1d0ba",
   "metadata": {},
   "outputs": [],
   "source": [
    "er_read.entities.to_dataframe()"
   ]
  },
  {
   "cell_type": "markdown",
   "id": "b272440c",
   "metadata": {},
   "source": [
    "### EntityKeyTable"
   ]
  },
  {
   "cell_type": "markdown",
   "id": "0d28b995",
   "metadata": {},
   "source": [
    "The `EntityKeyTable` stores all relationship between which user/data defined `Key` represents which `Entity` from an external resource."
   ]
  },
  {
   "cell_type": "code",
   "execution_count": null,
   "id": "1d2da741",
   "metadata": {},
   "outputs": [],
   "source": [
    "er_read.entity_keys.to_dataframe()"
   ]
  },
  {
   "cell_type": "markdown",
   "id": "9a4b8cb2",
   "metadata": {},
   "source": [
    "### FileTable"
   ]
  },
  {
   "cell_type": "markdown",
   "id": "d2e6825a",
   "metadata": {},
   "source": [
    "The `FileTable` stores the `id` for the `NWBFile`, allowing users to keep track of which files have the objects that have external references. With this update, the `ObjectTable` has a new column `file_id_idx`, i.e., the row index of the `FileTable`, to link the object and the file that stores it."
   ]
  },
  {
   "cell_type": "markdown",
   "id": "15ba522d",
   "metadata": {},
   "source": [
    "As we saw prior, `add_ref` is one of the main methods to populate `ExternalResources`.\n",
    "\n",
    "<code>er.add_ref(\n",
    "    container=read_nwbfile.subject,\n",
    "    attribute='species',\n",
    "    key='Macaca mulatta',\n",
    "    entity_id='NCBI:9544',\n",
    "    entity_uri='https://www.ncbi.nlm.nih.gov/Taxonomy/Browser/wwwtax.cgi?mode=info&id=9544'\n",
    ")</code>\n",
    "\n",
    "The FileTable is not optional, meaning every new reference needs an associated file. `add_ref` will search for a file if none is provided, as in this example. Users can also manually provide the file if the container hasn't been added to the file (an example in the next section).."
   ]
  },
  {
   "cell_type": "code",
   "execution_count": null,
   "id": "8c48bb3b",
   "metadata": {},
   "outputs": [],
   "source": [
    "er_read.files.to_dataframe()"
   ]
  },
  {
   "cell_type": "markdown",
   "id": "bc26f814",
   "metadata": {},
   "source": [
    "### ObjectTable"
   ]
  },
  {
   "cell_type": "markdown",
   "id": "82691f13",
   "metadata": {},
   "source": [
    "`file_id_idx` is the row index for the corresponding `NWBFile` that houses the `Object`. If there is no file, the user does *not* have to have one to use `ExternalResources`; it will be an empty string. The `object_type` column stores the explicit type of the object to allow for easy lookups.\n",
    "\n",
    "`relative_path` and `field` come in when dealing with different scenarios of adding references to `ExternalResources`.\n",
    "* `relative_path` is the path from the closest parent that is a NWB data-type. This is used when the attribute is not a NWB data-type and so has no object id.\n",
    "* `field` is used differentiate the different fields of the dataset for compound data. For example, if a dataset has a compound data-type with fields ‘x’, ‘y’, and ‘z’, and each field is associated with different ontologies, then use field=’x’ to denote that ‘x’ is using the external reference."
   ]
  },
  {
   "cell_type": "code",
   "execution_count": null,
   "id": "f535adda",
   "metadata": {},
   "outputs": [],
   "source": [
    "er_read.objects.to_dataframe()"
   ]
  },
  {
   "cell_type": "markdown",
   "id": "cc8d9af6",
   "metadata": {},
   "source": [
    "### ObjectKeyTable"
   ]
  },
  {
   "cell_type": "markdown",
   "id": "7d5ce893",
   "metadata": {},
   "source": [
    "Stores the relationship between which keys are used with each `Object`."
   ]
  },
  {
   "cell_type": "code",
   "execution_count": null,
   "id": "12a8753a",
   "metadata": {},
   "outputs": [],
   "source": [
    "er_read.object_keys.to_dataframe()"
   ]
  },
  {
   "cell_type": "markdown",
   "id": "41727578",
   "metadata": {},
   "source": [
    "# ExternalResources Rules"
   ]
  },
  {
   "cell_type": "markdown",
   "id": "fbbcb47d",
   "metadata": {},
   "source": [
    "1. Multiple `Key` objects can have the same name. They are disambiguated by the `Object` associated\n",
    "   with each. Meaning,  we may have keys with the same name in different objects, but for a particular object\n",
    "   all keys must be unique. \n",
    "2. In order to query specific records, `ExternalResources` class uses '(object_id, relative_path, field, key)' as the unique identifier.\n",
    "3. Multiple :py:class:`~hdmf.common.resources.Object` objects can use the same `Key`.\n",
    "   Note that the :py:class:`~hdmf.common.resources.Key` may already be associated with resources\n",
    "   and entities.\n",
    "4. Do not use the private methods to add into the `KeyTable`, `FileTable`, `EntityTable`, `ObjectTable`, or       `ObjectKeyTable` individually.\n",
    "5. An entity ID should be the unique string identifying the entity in the given resource.\n",
    "   This may or may not include a string representing the resource and a colon.\n",
    "   Use the format provided by the resource. For example, Identifiers.org uses the ID ``ncbigene:22353``\n",
    "   but the NCBI Gene uses the ID ``22353`` for the same term.\n",
    "6. The `ExternalResources` class supports compound data_types. In a majority of cases, `Object` objects will have an empty string for 'field' to denote the the field attribute that has an external reference.\n",
    "7. The FileTable is not optional, meaning every new reference needs an associated file. `add_ref` will search for a file if none is provided, as in this example. Users can also manually provide the `id` of the file if the container hasn't been added to the file"
   ]
  },
  {
   "cell_type": "markdown",
   "id": "93e5a7e4",
   "metadata": {},
   "source": [
    "# An example with a new NWBFile"
   ]
  },
  {
   "cell_type": "code",
   "execution_count": null,
   "id": "b3d0c66a",
   "metadata": {},
   "outputs": [],
   "source": [
    "session_start_time = datetime(2018, 4, 25, 2, 30, 3, tzinfo=tz.gettz(\"US/Pacific\"))\n",
    "\n",
    "nwbfile = NWBFile(\n",
    "    session_description=\"Mouse exploring an open field\",\n",
    "    identifier=\"Mouse5_Day3\", \n",
    "    session_start_time=session_start_time, \n",
    "    session_id=\"session_1234\",\n",
    "    experimenter=[\"Dichter, Benjamin K.\", \"Smith, Alex\"], \n",
    "    lab=\"My Lab Name\",  \n",
    "    institution=\"University of My Institution\",  \n",
    "    related_publications=\"DOI:10.1016/j.neuron.2016.12.011\", \n",
    ")"
   ]
  },
  {
   "cell_type": "code",
   "execution_count": null,
   "id": "08bbf0f9",
   "metadata": {},
   "outputs": [],
   "source": [
    "nwbfile.subject = Subject(\n",
    "    subject_id=\"001\",\n",
    "    age=\"P90D\",\n",
    "    description=\"mouse 5\",\n",
    "    species=\"Mus musculus\",\n",
    "    sex=\"M\",\n",
    ")"
   ]
  },
  {
   "cell_type": "code",
   "execution_count": null,
   "id": "ea2a32e9",
   "metadata": {},
   "outputs": [],
   "source": [
    "er = ExternalResources() \n",
    "nwbfile.link_resources(er) "
   ]
  },
  {
   "cell_type": "markdown",
   "id": "d102dc0c",
   "metadata": {},
   "source": [
    "## Using add_ref"
   ]
  },
  {
   "cell_type": "markdown",
   "id": "15b68c18",
   "metadata": {},
   "source": [
    "### add_ref without a file"
   ]
  },
  {
   "cell_type": "markdown",
   "id": "a503ddd8",
   "metadata": {},
   "source": [
    "As mentioned prior, the file must be explicitly set within `add_ref` or the object must already exist within the file, in which the link betweent the file and the instance of `ExternalResources` will automatically resolve the `file` parameter. The example below will return an error as expected."
   ]
  },
  {
   "cell_type": "code",
   "execution_count": null,
   "id": "9371fdf6",
   "metadata": {},
   "outputs": [],
   "source": [
    "col1 = VectorData(\n",
    "    name='Species_Data',\n",
    "    description='species from NCBI and Ensemble',\n",
    "    data=['Homo sapiens', 'Mus musculus']\n",
    ")\n",
    "species = DynamicTable(name='species', description='My species', columns=[col1],)\n",
    "er.add_ref(\n",
    "    container=species,\n",
    "    attribute='Species_Data',\n",
    "    key='Homo sapiens',\n",
    "    entity_id='NCBI_TAXON:9606',\n",
    "    entity_uri='https://www.ncbi.nlm.nih.gov/Taxonomy/Browser/wwwtax.cgi?id=9606'\n",
    ")"
   ]
  },
  {
   "cell_type": "markdown",
   "id": "ef7715db",
   "metadata": {},
   "source": [
    "### add_ref with attributes"
   ]
  },
  {
   "cell_type": "markdown",
   "id": "ca468b28",
   "metadata": {},
   "source": [
    "Let's look at very simple example. The `attribute` is structure/feature that holds a term the user wants to add a reference for. `attribute` can either be an NWB data-type or not, e.g., a variable that contains a string-value.\n",
    "\n",
    "*Note: we manually provide `file=nwbfile.object_id`.*\n"
   ]
  },
  {
   "cell_type": "code",
   "execution_count": null,
   "id": "bcba7a7c",
   "metadata": {},
   "outputs": [],
   "source": [
    "col1 = VectorData(\n",
    "    name='Species_Data',\n",
    "    description='species from NCBI and Ensemble',\n",
    "    data=['Homo sapiens', 'Mus musculus']\n",
    ")\n",
    "species = DynamicTable(name='species', description='My species', columns=[col1],)\n",
    "er.add_ref(\n",
    "    file=nwbfile,\n",
    "    container=species,\n",
    "    attribute='Species_Data',\n",
    "    key='Homo sapiens',\n",
    "    entity_id='NCBI_TAXON:9606',\n",
    "    entity_uri='https://www.ncbi.nlm.nih.gov/Taxonomy/Browser/wwwtax.cgi?id=9606'\n",
    ")"
   ]
  },
  {
   "cell_type": "markdown",
   "id": "5153a04b",
   "metadata": {},
   "source": [
    "Recall that `relative_path` is the path from the closest parent that is a NWB data-type and is used when the attribute is not a NWB data-type and so has no `object_id`. "
   ]
  },
  {
   "cell_type": "code",
   "execution_count": null,
   "id": "d4818292",
   "metadata": {},
   "outputs": [],
   "source": [
    "# Subject species attribute\n",
    "er.add_ref(\n",
    "    container=nwbfile.subject,\n",
    "    attribute='species',\n",
    "    key='Mus musculus',\n",
    "    entity_id='NCBI_TAXON:10090',\n",
    "    entity_uri='https://www.ncbi.nlm.nih.gov/Taxonomy/Browser/wwwtax.cgi?id=10090'\n",
    ")\n",
    "\n",
    "# NWBFile experimenter\n",
    "er.add_ref(\n",
    "    container=nwbfile,\n",
    "    attribute=\"experimenter\",\n",
    "    key=\"Dichter, Benjamin K.\",\n",
    "    entity_id=\"ORCID:0000-0001-5725-6910\",\n",
    "    entity_uri=\"https://orcid.org/0000-0001-5725-6910\",\n",
    ")"
   ]
  },
  {
   "cell_type": "code",
   "execution_count": null,
   "id": "934a249d",
   "metadata": {},
   "outputs": [],
   "source": [
    "er.to_dataframe()"
   ]
  },
  {
   "cell_type": "markdown",
   "id": "ae04931b",
   "metadata": {},
   "source": [
    "### add_ref with compound data"
   ]
  },
  {
   "cell_type": "code",
   "execution_count": null,
   "id": "8a73b63d",
   "metadata": {},
   "outputs": [],
   "source": [
    "col1 = VectorData(\n",
    "    name='Species_column',\n",
    "    description='description',\n",
    "    data=np.array(\n",
    "        [('Mus musculus', 9, 81.0), ('Homo sapiens', 3, 27.0)],\n",
    "        dtype=[('species', 'U14'), ('age', 'i4'), ('weight', 'f4')]\n",
    "    )\n",
    ")\n",
    "\n",
    "species = DynamicTable(name='SpeciesTable', description='My species', columns=[col1],)"
   ]
  },
  {
   "cell_type": "code",
   "execution_count": null,
   "id": "1b261846",
   "metadata": {},
   "outputs": [],
   "source": [
    "er.add_ref(\n",
    "    file=nwbfile,\n",
    "    container=species,\n",
    "    attribute='Species_column',\n",
    "    field='species',\n",
    "    key='Mus musculus',\n",
    "    entity_id='NCBI_TAXON:10090',\n",
    "    entity_uri='https://www.ncbi.nlm.nih.gov/Taxonomy/Browser/wwwtax.cgi?id=10090'\n",
    ")"
   ]
  },
  {
   "cell_type": "code",
   "execution_count": null,
   "id": "34ba228c",
   "metadata": {
    "scrolled": true
   },
   "outputs": [],
   "source": [
    "er.to_dataframe()"
   ]
  },
  {
   "cell_type": "markdown",
   "id": "9a401498",
   "metadata": {},
   "source": [
    "## Write NWBFile and NERD separately"
   ]
  },
  {
   "cell_type": "code",
   "execution_count": null,
   "id": "30ba3d98",
   "metadata": {},
   "outputs": [],
   "source": [
    "with NWBHDF5IO(\"NWBfile_ER_Example.nwb\", \"w\") as io:\n",
    "    io.write(nwbfile)"
   ]
  },
  {
   "cell_type": "code",
   "execution_count": null,
   "id": "4dcbf212",
   "metadata": {},
   "outputs": [],
   "source": [
    "er.to_norm_tsv(path='./')"
   ]
  },
  {
   "cell_type": "markdown",
   "id": "774c5396",
   "metadata": {},
   "source": [
    "# TermSet"
   ]
  },
  {
   "cell_type": "markdown",
   "id": "4e962354",
   "metadata": {},
   "source": [
    "`TermSet` allows users to create their own subset of ontological references and is built upon the resources from LinkML.\n",
    "\n",
    "Use Cases:\n",
    "1. Validation of data. Currently, validation with a `TermSet` is only supported for `Data`, but we are in the talks to expand out to, i.e., experimenters. \n",
    "2. `TermSet` streamlines the user experience for adding new references to `ExternalResources` using `add_ref_term_set`.\n",
    "\n",
    "The first step is create a `.yaml` file "
   ]
  },
  {
   "cell_type": "markdown",
   "id": "335ad90e",
   "metadata": {},
   "source": [
    "![title](taxon.png)"
   ]
  },
  {
   "cell_type": "markdown",
   "id": "92fe7e07",
   "metadata": {},
   "source": [
    "LinkML Enumerations are collections of controlled string values. "
   ]
  },
  {
   "cell_type": "code",
   "execution_count": null,
   "id": "525ae444",
   "metadata": {},
   "outputs": [],
   "source": [
    "terms = TermSet(name='Species', term_schema_path='./species_term_set.yaml')"
   ]
  },
  {
   "cell_type": "markdown",
   "id": "9161f884",
   "metadata": {},
   "source": [
    "The `TermSet` class has methods to help you view and retrieve terms."
   ]
  },
  {
   "cell_type": "code",
   "execution_count": null,
   "id": "e0686900",
   "metadata": {},
   "outputs": [],
   "source": [
    "terms.view_set"
   ]
  },
  {
   "cell_type": "code",
   "execution_count": null,
   "id": "e5e54841",
   "metadata": {},
   "outputs": [],
   "source": [
    "terms['Homo sapiens']"
   ]
  },
  {
   "cell_type": "markdown",
   "id": "9ec81c76",
   "metadata": {},
   "source": [
    "## Validate Data with a TermSet"
   ]
  },
  {
   "cell_type": "markdown",
   "id": "15a6127e",
   "metadata": {},
   "source": [
    "Data is validated when a TermSet is provided to Data and VectorData."
   ]
  },
  {
   "cell_type": "markdown",
   "id": "a8701ef8",
   "metadata": {},
   "source": [
    "#### Validate Data"
   ]
  },
  {
   "cell_type": "code",
   "execution_count": null,
   "id": "d82004d6",
   "metadata": {},
   "outputs": [],
   "source": [
    "col1 = VectorData(\n",
    "    name='species',\n",
    "    description='...',\n",
    "    data=['Homo sapiens', 'Mus musculus'],\n",
    "    term_set=terms)"
   ]
  },
  {
   "cell_type": "markdown",
   "id": "d0a4f222",
   "metadata": {},
   "source": [
    "#### Validate Bad Data"
   ]
  },
  {
   "cell_type": "code",
   "execution_count": null,
   "id": "c3b7d286",
   "metadata": {},
   "outputs": [],
   "source": [
    "col1 = VectorData(\n",
    "    name='species',\n",
    "    description='...',\n",
    "    data=['Homo sapiens', 'Mus muscuklus', 'Rattus norvegicus'],\n",
    "    term_set=terms,\n",
    ")"
   ]
  },
  {
   "cell_type": "markdown",
   "id": "d8297b1a",
   "metadata": {},
   "source": [
    "#### Validate Data on append"
   ]
  },
  {
   "cell_type": "code",
   "execution_count": null,
   "id": "8aa2cd52",
   "metadata": {},
   "outputs": [],
   "source": [
    "# append \n",
    "col1 = VectorData(\n",
    "    name='species',\n",
    "    description='...',\n",
    "    data=['Homo sapiens', 'Ursus arctos horribilis'],\n",
    "    term_set=terms,\n",
    ")\n",
    "col1.append('Mus musculus')"
   ]
  },
  {
   "cell_type": "markdown",
   "id": "fca75eac",
   "metadata": {},
   "source": [
    "#### Validate Bad Data on append"
   ]
  },
  {
   "cell_type": "code",
   "execution_count": null,
   "id": "882d0632",
   "metadata": {
    "scrolled": true
   },
   "outputs": [],
   "source": [
    "# append bad data\n",
    "col1 = VectorData(\n",
    "    name='species',\n",
    "    description='...',\n",
    "    data=['Homo sapiens', 'Ursus arctos horribilis'],\n",
    "    term_set=terms,\n",
    ")\n",
    "col1.append('Macaca mulatta')"
   ]
  },
  {
   "cell_type": "markdown",
   "id": "40c8efd9",
   "metadata": {},
   "source": [
    "#### Validate Data on extend"
   ]
  },
  {
   "cell_type": "code",
   "execution_count": null,
   "id": "2d003b08",
   "metadata": {},
   "outputs": [],
   "source": [
    "# extend\n",
    "col1 = VectorData(\n",
    "    name='species',\n",
    "    description='...',\n",
    "    data=['Homo sapiens'],\n",
    "    term_set=terms,\n",
    ")\n",
    "col1.extend(['Mus musculus', 'Ursus arctos horribilis'])"
   ]
  },
  {
   "cell_type": "markdown",
   "id": "e7755bb2",
   "metadata": {},
   "source": [
    "#### Validate Bad Data on extend"
   ]
  },
  {
   "cell_type": "code",
   "execution_count": null,
   "id": "a234d85c",
   "metadata": {},
   "outputs": [],
   "source": [
    "# extend bad data\n",
    "col1 = VectorData(\n",
    "    name='species',\n",
    "    description='...',\n",
    "    data=['Homo sapiens'],\n",
    "    term_set=terms,\n",
    ")\n",
    "col1.extend(['Macaca mulatta', 'Oryctolagus cuniculus'])"
   ]
  },
  {
   "cell_type": "markdown",
   "id": "dc32c252",
   "metadata": {},
   "source": [
    "#### Validate with add_row example 1"
   ]
  },
  {
   "cell_type": "markdown",
   "id": "c1936d0e",
   "metadata": {},
   "source": [
    "Validating new data is determined by whether the `VectorData` column was intialized with validate. `DynamicTable` will automatically check for columns that have validation set. If any of the new data is actually *bad* data, then `add_row` will not add any new data."
   ]
  },
  {
   "cell_type": "code",
   "execution_count": null,
   "id": "fe37a3c3",
   "metadata": {},
   "outputs": [],
   "source": [
    "col1 = VectorData(\n",
    "    name='Species_1',\n",
    "    description='...',\n",
    "    data=['Homo sapiens'],\n",
    "    term_set=terms,\n",
    ")\n",
    "col2 = VectorData(\n",
    "    name='Species_2',\n",
    "    description='...',\n",
    "    data=['Mus musculus'],\n",
    "    term_set=terms,\n",
    ")\n",
    "species = DynamicTable(name='species', description='My species', columns=[col1,col2])"
   ]
  },
  {
   "cell_type": "code",
   "execution_count": null,
   "id": "0cea528f",
   "metadata": {},
   "outputs": [],
   "source": [
    "# add bad data\n",
    "species.add_row(Species_1='Mus musculus', Species_2='Mus musculus')"
   ]
  },
  {
   "cell_type": "code",
   "execution_count": null,
   "id": "b6ccf564",
   "metadata": {},
   "outputs": [],
   "source": [
    "species.to_dataframe()"
   ]
  },
  {
   "cell_type": "markdown",
   "id": "24141509",
   "metadata": {},
   "source": [
    "#### Validate with add_row example 2"
   ]
  },
  {
   "cell_type": "markdown",
   "id": "4497c9fa",
   "metadata": {},
   "source": [
    "`add_row` does not validate every column. It only validates the data for `VectorData` that has validate set."
   ]
  },
  {
   "cell_type": "code",
   "execution_count": null,
   "id": "a10cc3f3",
   "metadata": {},
   "outputs": [],
   "source": [
    "col1 = VectorData(\n",
    "    name='Species_1',\n",
    "    description='...',\n",
    "    data=['Homo sapiens'],\n",
    "    term_set=terms,\n",
    ")\n",
    "col2 = VectorData(\n",
    "    name='Species_2',\n",
    "    description='...',\n",
    "    data=['Mus musculus'],\n",
    ")\n",
    "species = DynamicTable(name='species', description='My species', columns=[col1,col2])"
   ]
  },
  {
   "cell_type": "code",
   "execution_count": null,
   "id": "cccd4a06",
   "metadata": {},
   "outputs": [],
   "source": [
    "species.add_row(Species_1='Mus mrusculus', Species_2='rat')"
   ]
  },
  {
   "cell_type": "code",
   "execution_count": null,
   "id": "d5dfbcc5",
   "metadata": {},
   "outputs": [],
   "source": [
    "species.to_dataframe()"
   ]
  },
  {
   "cell_type": "markdown",
   "id": "4b71b2d1",
   "metadata": {},
   "source": [
    "#### Validate with add_row example 3"
   ]
  },
  {
   "cell_type": "markdown",
   "id": "0ff5fd62",
   "metadata": {},
   "source": [
    "`add_row` is able to distinguish which columns have valid data"
   ]
  },
  {
   "cell_type": "code",
   "execution_count": null,
   "id": "8821f3d4",
   "metadata": {},
   "outputs": [],
   "source": [
    "col1 = VectorData(\n",
    "    name='Species_1',\n",
    "    description='...',\n",
    "    data=['Homo sapiens'],\n",
    "    term_set=terms,\n",
    ")\n",
    "col2 = VectorData(\n",
    "    name='Species_2',\n",
    "    description='...',\n",
    "    data=['Mus musculus'],\n",
    "    term_set=terms,\n",
    ")\n",
    "species = DynamicTable(name='species', description='My species', columns=[col1,col2])"
   ]
  },
  {
   "cell_type": "code",
   "execution_count": null,
   "id": "9325dcdb",
   "metadata": {},
   "outputs": [],
   "source": [
    "species.add_row(Species_1='Ursus arctos horribilis', Species_2='rat')"
   ]
  },
  {
   "cell_type": "markdown",
   "id": "d589e0ac",
   "metadata": {},
   "source": [
    "#### Validate with add_column"
   ]
  },
  {
   "cell_type": "markdown",
   "id": "ae9823ee",
   "metadata": {},
   "source": [
    "`add_column` also supports validation"
   ]
  },
  {
   "cell_type": "code",
   "execution_count": null,
   "id": "92e433ac",
   "metadata": {},
   "outputs": [],
   "source": [
    "col1 = VectorData(\n",
    "    name='col1',\n",
    "    description='column #1',\n",
    "    data=[1, 2],\n",
    ")\n",
    "species = DynamicTable(name='species', description='My species', columns=[col1],)"
   ]
  },
  {
   "cell_type": "code",
   "execution_count": null,
   "id": "06d28bf1",
   "metadata": {},
   "outputs": [],
   "source": [
    "species.add_column(name='species',\n",
    "                   description='Species data',\n",
    "                   data=['Homo sapiens', 'Mus muscuflus'],\n",
    "                   term_set=terms)"
   ]
  },
  {
   "cell_type": "markdown",
   "id": "b7246fdb",
   "metadata": {},
   "source": [
    "## Add ExternalResources using a TermSet"
   ]
  },
  {
   "cell_type": "markdown",
   "id": "cdee6fe1",
   "metadata": {},
   "source": [
    "`TermSet` allows for an easier way to add references to `ExternalResources`. The user will create a `.yaml` file that will contain enumerations. These enumerations take place as the `entities`. Using the `TermSet` does bring greater structure to the naming convention for `Key` values in `ExternalResources`. `Key` values will have to match the name of the term in the `TermSet`. For example, if I have species data, the species values need to be the proper ontological terms in order to be validated and pulled from the `TermSet`."
   ]
  },
  {
   "cell_type": "markdown",
   "id": "7da99163",
   "metadata": {},
   "source": [
    "Rules:\n",
    "The termset must exist on the object that will use it. It cannot be used on a non-NWB datatype."
   ]
  },
  {
   "cell_type": "code",
   "execution_count": null,
   "id": "9aff8ccb",
   "metadata": {},
   "outputs": [],
   "source": [
    "session_start_time = datetime(2018, 4, 25, 2, 30, 3, tzinfo=tz.gettz(\"US/Pacific\"))\n",
    "\n",
    "nwbfile = NWBFile(\n",
    "    session_description=\"Mouse exploring an open field\",  # required\n",
    "    identifier=\"Mouse5_Day3\",  # required\n",
    "    session_start_time=session_start_time,  # required\n",
    "    session_id=\"session_1234\",  # optional\n",
    "    experimenter=[\"Dichter, Benjamin K.\", \"Smith, Alex\"],  # optional\n",
    "    lab=\"My Lab Name\",  # optional\n",
    "    institution=\"University of My Institution\",  # optional\n",
    "    related_publications=\"DOI:10.1016/j.neuron.2016.12.011\",  # optional\n",
    ")"
   ]
  },
  {
   "cell_type": "code",
   "execution_count": null,
   "id": "99f96cc5",
   "metadata": {},
   "outputs": [],
   "source": [
    "er = ExternalResources() \n",
    "nwbfile.external_resources=er"
   ]
  },
  {
   "cell_type": "code",
   "execution_count": null,
   "id": "d6b5a4a4",
   "metadata": {},
   "outputs": [],
   "source": [
    "col1 = VectorData(\n",
    "    name='Species_Data',\n",
    "    description='species from NCBI and Ensemble',\n",
    "    data=['Homo sapiens', 'Ursus arctos horribilis'],\n",
    "    term_set=terms,\n",
    ")\n",
    "\n",
    "species = DynamicTable(name='species', description='My species', columns=[col1],)"
   ]
  },
  {
   "cell_type": "code",
   "execution_count": null,
   "id": "0f1faa83",
   "metadata": {},
   "outputs": [],
   "source": [
    "er.add_ref_term_set(file=nwbfile,\n",
    "                    container=species,\n",
    "                    attribute='Species_Data',\n",
    "                   ) "
   ]
  },
  {
   "cell_type": "code",
   "execution_count": null,
   "id": "d84cb179",
   "metadata": {},
   "outputs": [],
   "source": [
    "er.to_dataframe()"
   ]
  },
  {
   "cell_type": "markdown",
   "id": "f1431cfd",
   "metadata": {},
   "source": [
    "## Auto-add to ER with Termset (In Development)"
   ]
  },
  {
   "cell_type": "markdown",
   "id": "b2fe1a05",
   "metadata": {},
   "source": [
    "In order to take advantage of auto-adding references to `ExternalResources` the data needs to first be validated and then be added to the `NWBFile`. This functionality has limited use cases, but will be expanded on in the future to support auto-add to `ExternalResources` for other NWB data-types. Currently, only `DynamicTable` is supported.\n",
    "\n",
    "This requires validation and the use of a `TermSet`."
   ]
  },
  {
   "cell_type": "code",
   "execution_count": null,
   "id": "19f9cc43",
   "metadata": {},
   "outputs": [],
   "source": [
    "terms = TermSet(name='Species_TermSet', term_schema_path='/Users/mavaylon/Research/NWB/species_term_set.yaml')"
   ]
  },
  {
   "cell_type": "code",
   "execution_count": null,
   "id": "9a37d754",
   "metadata": {},
   "outputs": [],
   "source": [
    "session_start_time = datetime(2018, 4, 25, 2, 30, 3, tzinfo=tz.gettz(\"US/Pacific\"))\n",
    "\n",
    "nwbfile = NWBFile(\n",
    "    session_description=\"Mouse exploring an open field\",  # required\n",
    "    identifier=\"Mouse5_Day3\",  # required\n",
    "    session_start_time=session_start_time,  # required\n",
    "    session_id=\"session_1234\",  # optional\n",
    "    experimenter=[\"Dichter, Benjamin K.\", \"Smith, Alex\"],  # optional\n",
    "    lab=\"My Lab Name\",  # optional\n",
    "    institution=\"University of My Institution\",  # optional\n",
    "    related_publications=\"DOI:10.1016/j.neuron.2016.12.011\",  # optional\n",
    ")"
   ]
  },
  {
   "cell_type": "code",
   "execution_count": null,
   "id": "f13989a5",
   "metadata": {},
   "outputs": [],
   "source": [
    "er = ExternalResources() \n",
    "nwbfile.external_resources=er"
   ]
  },
  {
   "cell_type": "code",
   "execution_count": null,
   "id": "a5a293c8",
   "metadata": {},
   "outputs": [],
   "source": [
    "col1 = VectorData(\n",
    "    name='Species_1',\n",
    "    description='...',\n",
    "    data=['Homo sapiens'],\n",
    "    term_set=terms,\n",
    ")\n",
    "col2 = VectorData(\n",
    "    name='Species_2',\n",
    "    description='...',\n",
    "    data=['Mus musculus'],\n",
    "    term_set=terms,\n",
    ")\n",
    "\n",
    "species = DynamicTable(name='species', description='My species', columns=[col1,col2],)"
   ]
  },
  {
   "cell_type": "code",
   "execution_count": null,
   "id": "549f2698",
   "metadata": {},
   "outputs": [],
   "source": [
    "nwbfile.add_acquisition(species)"
   ]
  },
  {
   "cell_type": "code",
   "execution_count": null,
   "id": "cc88710a",
   "metadata": {},
   "outputs": [],
   "source": [
    "nwbfile.external_resources.entities.to_dataframe()"
   ]
  }
 ],
 "metadata": {
  "kernelspec": {
   "display_name": "Python 3 (ipykernel)",
   "language": "python",
   "name": "python3"
  },
  "language_info": {
   "codemirror_mode": {
    "name": "ipython",
    "version": 3
   },
   "file_extension": ".py",
   "mimetype": "text/x-python",
   "name": "python",
   "nbconvert_exporter": "python",
   "pygments_lexer": "ipython3",
   "version": "3.9.16"
  }
 },
 "nbformat": 4,
 "nbformat_minor": 5
}
